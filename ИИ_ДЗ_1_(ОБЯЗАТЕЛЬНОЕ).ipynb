{
 "cells": [
  {
   "cell_type": "markdown",
   "metadata": {
    "id": "bVbHQbDDjw9i"
   },
   "source": [
    "## ДЗ 1 (ОБЯЗАТЕЛЬНОЕ): Анализ температурных данных и мониторинг текущей температуры через OpenWeatherMap API\n",
    "\n",
    "**Описание задания:**  \n",
    "Вы аналитик в компании, занимающейся изучением климатических изменений и мониторингом температур в разных городах. Вам нужно провести анализ исторических данных о температуре для выявления сезонных закономерностей и аномалий. Также необходимо подключить API OpenWeatherMap для получения текущей температуры в выбранных городах и сравнить её с историческими данными.\n",
    "\n",
    "\n",
    "### Цели задания:\n",
    "1. Провести **анализ временных рядов**, включая:\n",
    "   - Вычисление скользящего среднего и стандартного отклонения для сглаживания температурных колебаний.\n",
    "   - Определение аномалий на основе отклонений температуры от $ \\text{скользящее среднее} \\pm 2\\sigma $.\n",
    "   - Построение долгосрочных трендов изменения температуры.\n",
    "   - Любые дополнительные исследования будут вам в плюс.\n",
    "\n",
    "2. Осуществить **мониторинг текущей температуры**:\n",
    "   - Получить текущую температуру через OpenWeatherMap API.\n",
    "   - Сравнить её с историческим нормальным диапазоном для текущего сезона.\n",
    "\n",
    "3. Разработать **интерактивное приложение**:\n",
    "   - Дать пользователю возможность выбрать город.\n",
    "   - Отобразить результаты анализа температур, включая временные ряды, сезонные профили и аномалии.\n",
    "   - Провести анализ текущей температуры в контексте исторических данных.\n",
    "\n",
    "\n",
    "### Описание данных\n",
    "Исторические данные о температуре содержатся в файле `temperature_data.csv`, включают:\n",
    "  - `city`: Название города.\n",
    "  - `timestamp`: Дата (с шагом в 1 день).\n",
    "  - `temperature`: Среднесуточная температура (в °C).\n",
    "  - `season`: Сезон года (зима, весна, лето, осень).\n",
    "\n",
    "Код для генерации файла вы найдете ниже.\n",
    "\n",
    "### Этапы выполнения\n",
    "\n",
    "1. **Анализ исторических данных**:\n",
    "   - Вычислить **скользящее среднее** температуры с окном в 30 дней для сглаживания краткосрочных колебаний.\n",
    "   - Рассчитать среднюю температуру и стандартное отклонение для каждого сезона в каждом городе.\n",
    "   - Выявить аномалии, где температура выходит за пределы $ \\text{среднее} \\pm 2\\sigma $.\n",
    "   - Попробуйте распараллелить проведение этого анализа. Сравните скорость выполнения анализа с распараллеливанием и без него.\n",
    "\n",
    "2. **Мониторинг текущей температуры**:\n",
    "   - Подключить OpenWeatherMap API для получения текущей температуры города. Для получения API Key (бесплатно) надо зарегистрироваться на сайте. Обратите внимание, что API Key может активироваться только через 2-3 часа, это нормально. Посему получите ключ заранее.\n",
    "   - Получить текущую температуру для выбранного города через OpenWeatherMap API.\n",
    "   - Определить, является ли текущая температура нормальной, исходя из исторических данных для текущего сезона.\n",
    "   - Данные на самом деле не совсем реальные (сюрпрайз). Поэтому на момент эксперимента погода в Берлине, Каире и Дубае была в рамках нормы, а в Пекине и Москве аномальная. Протестируйте свое решение для разных городов.\n",
    "   - Попробуйте для получения текущей температуры использовать синхронные и асинхронные методы. Что здесь лучше использовать?\n",
    "\n",
    "3. **Создание приложения на Streamlit**:\n",
    "   - Добавить интерфейс для загрузки файла с историческими данными.\n",
    "   - Добавить интерфейс для выбора города (из выпадающего списка).\n",
    "   - Добавить форму для ввода API-ключа OpenWeatherMap. Когда он не введен, данные для текущей погоды не показываются. Если ключ некорректный, выведите на экран ошибку (должно приходить `{\"cod\":401, \"message\": \"Invalid API key. Please see https://openweathermap.org/faq#error401 for more info.\"}`).\n",
    "   - Отобразить:\n",
    "     - Описательную статистику по историческим данным для города, можно добавить визуализации.\n",
    "     - Временной ряд температур с выделением аномалий (например, точками другого цвета).\n",
    "     - Сезонные профили с указанием среднего и стандартного отклонения.\n",
    "   - Вывести текущую температуру через API и указать, нормальна ли она для сезона.\n",
    "\n",
    "### Критерии оценивания\n",
    "\n",
    "- Корректное проведение анализа данных – 1 балл.\n",
    "- Исследование распараллеливания анализа – 1 балл.\n",
    "- Корректный поиск аномалий – 1 балл.\n",
    "- Подключение к API и корректность выполнения запроса – 1 балл.\n",
    "- Проведение эксперимента с синхронным и асинхронным способом запроса к API – 1 балл.\n",
    "- Создание интерфейса приложения streamlit в соответствии с описанием – 3 балла.\n",
    "- Корректное отображение графиков и статистик, а также сезонных профилей – 1 балл.\n",
    "- Корректный вывод текущей температуры в выбранном городе и проведение проверки на ее аномальность – 1 балл.\n",
    "- Любая дополнительная функциональность приветствуется и оценивается бонусными баллами (не более 2 в сумме) на усмотрение проверяющего.\n",
    "\n",
    "### Формат сдачи домашнего задания\n",
    "\n",
    "Решение нужно развернуть в Streamlit Cloud (бесплатно)\n",
    "\n",
    "*   Создаем новый репозиторий на GitHub.  \n",
    "*   Загружаем проект.\n",
    "*   Создаем аккаунт в [Streamlit Cloud](https://streamlit.io/cloud).\n",
    "*   Авторизуемся в Streamlit Cloud.\n",
    "*   Создаем новое приложение в Streamlit Cloud и подключаем GitHub-репозиторий.\n",
    "*   Deploy!\n",
    "\n",
    "Сдать в форму необходимо:\n",
    "1. Ссылку на развернутое в Streamlit Cloud приложение.\n",
    "2. Ссылку на код. Все выводы про, например, использование параллельности/асинхронности опишите в комментариях.\n",
    "\n",
    "Не забудьте удалить ключ API и иную чувствительную информацию.\n",
    "\n",
    "### Полезные ссылки\n",
    "*   [Оформление задачи Титаник на Streamlit](https://github.com/evgpat/streamlit_demo)\n",
    "*   [Документация Streamlit](https://docs.streamlit.io/)\n",
    "*   [Блог о Streamlit](https://blog.streamlit.io/)"
   ]
  },
  {
   "metadata": {
    "ExecuteTime": {
     "end_time": "2024-12-16T20:53:27.630727Z",
     "start_time": "2024-12-16T20:53:27.309768Z"
    }
   },
   "cell_type": "code",
   "source": [
    "import pandas as pd\n",
    "import numpy as np\n",
    "import pandas as pd\n",
    "import aiohttp\n",
    "import multiprocessing\n",
    "import tools\n",
    "import asyncio"
   ],
   "outputs": [],
   "execution_count": 1
  },
  {
   "cell_type": "code",
   "metadata": {
    "id": "SsrwTMhRj6dK",
    "ExecuteTime": {
     "end_time": "2024-12-16T21:19:44.353454Z",
     "start_time": "2024-12-16T21:19:44.344785Z"
    }
   },
   "source": [
    "\n",
    "# Реальные средние температуры (примерные данные) для городов по сезонам\n",
    "seasonal_temperatures = {\n",
    "    \"New York\": {\"winter\": 0, \"spring\": 10, \"summer\": 25, \"autumn\": 15},\n",
    "    \"London\": {\"winter\": 5, \"spring\": 11, \"summer\": 18, \"autumn\": 12},\n",
    "    \"Paris\": {\"winter\": 4, \"spring\": 12, \"summer\": 20, \"autumn\": 13},\n",
    "    \"Tokyo\": {\"winter\": 6, \"spring\": 15, \"summer\": 27, \"autumn\": 18},\n",
    "    \"Moscow\": {\"winter\": -10, \"spring\": 5, \"summer\": 18, \"autumn\": 8},\n",
    "    \"Sydney\": {\"winter\": 12, \"spring\": 18, \"summer\": 25, \"autumn\": 20},\n",
    "    \"Berlin\": {\"winter\": 0, \"spring\": 10, \"summer\": 20, \"autumn\": 11},\n",
    "    \"Beijing\": {\"winter\": -2, \"spring\": 13, \"summer\": 27, \"autumn\": 16},\n",
    "    \"Rio de Janeiro\": {\"winter\": 20, \"spring\": 25, \"summer\": 30, \"autumn\": 25},\n",
    "    \"Dubai\": {\"winter\": 20, \"spring\": 30, \"summer\": 40, \"autumn\": 30},\n",
    "    \"Los Angeles\": {\"winter\": 15, \"spring\": 18, \"summer\": 25, \"autumn\": 20},\n",
    "    \"Singapore\": {\"winter\": 27, \"spring\": 28, \"summer\": 28, \"autumn\": 27},\n",
    "    \"Mumbai\": {\"winter\": 25, \"spring\": 30, \"summer\": 35, \"autumn\": 30},\n",
    "    \"Cairo\": {\"winter\": 15, \"spring\": 25, \"summer\": 35, \"autumn\": 25},\n",
    "    \"Mexico City\": {\"winter\": 12, \"spring\": 18, \"summer\": 20, \"autumn\": 15},\n",
    "}\n",
    "\n",
    "# Сопоставление месяцев с сезонами\n",
    "month_to_season = {12: \"winter\", 1: \"winter\", 2: \"winter\",\n",
    "                   3: \"spring\", 4: \"spring\", 5: \"spring\",\n",
    "                   6: \"summer\", 7: \"summer\", 8: \"summer\",\n",
    "                   9: \"autumn\", 10: \"autumn\", 11: \"autumn\"}\n",
    "\n",
    "# Генерация данных о температуре\n",
    "def generate_realistic_temperature_data(cities, num_years=10):\n",
    "    dates = pd.date_range(start=\"2010-01-01\", periods=365 * num_years, freq=\"D\")\n",
    "    data = []\n",
    "\n",
    "    for city in cities:\n",
    "        for date in dates:\n",
    "            season = month_to_season[date.month]\n",
    "            mean_temp = seasonal_temperatures[city][season]\n",
    "            # Добавляем случайное отклонение\n",
    "            temperature = np.random.normal(loc=mean_temp, scale=5)\n",
    "            data.append({\"city\": city, \"timestamp\": date, \"temperature\": temperature})\n",
    "\n",
    "    df = pd.DataFrame(data)\n",
    "    df['season'] = df['timestamp'].dt.month.map(lambda x: month_to_season[x])\n",
    "    return df\n",
    "\n",
    "\n"
   ],
   "outputs": [],
   "execution_count": 22
  },
  {
   "metadata": {},
   "cell_type": "code",
   "outputs": [],
   "execution_count": null,
   "source": [
    "# Генерация данных\n",
    "data = generate_realistic_temperature_data(list(seasonal_temperatures.keys()))\n",
    "data.to_csv('temperature_data.csv', index=False)"
   ]
  },
  {
   "cell_type": "code",
   "metadata": {
    "ExecuteTime": {
     "end_time": "2024-12-16T20:53:30.566182Z",
     "start_time": "2024-12-16T20:53:30.519633Z"
    }
   },
   "source": [
    "df = pd.read_csv('temperature_data.csv')\n",
    "# print(df)\n",
    "df['timestamp'] = pd.to_datetime(df['timestamp'])\n",
    "df = df.sort_values(by=['city', 'timestamp']).reset_index(drop=True)\n",
    "df\n",
    "# Set the timestamp as the index\n",
    "# df.set_index('timestamp', inplace=True)"
   ],
   "outputs": [
    {
     "data": {
      "text/plain": [
       "          city  timestamp  temperature  season\n",
       "0      Beijing 2010-01-01    -6.174222  winter\n",
       "1      Beijing 2010-01-02    -4.834096  winter\n",
       "2      Beijing 2010-01-03    -1.209713  winter\n",
       "3      Beijing 2010-01-04     5.825166  winter\n",
       "4      Beijing 2010-01-05    -2.400848  winter\n",
       "...        ...        ...          ...     ...\n",
       "54745    Tokyo 2019-12-25     2.623591  winter\n",
       "54746    Tokyo 2019-12-26     0.851174  winter\n",
       "54747    Tokyo 2019-12-27    12.993030  winter\n",
       "54748    Tokyo 2019-12-28     3.479038  winter\n",
       "54749    Tokyo 2019-12-29    -3.686073  winter\n",
       "\n",
       "[54750 rows x 4 columns]"
      ],
      "text/html": [
       "<div>\n",
       "<style scoped>\n",
       "    .dataframe tbody tr th:only-of-type {\n",
       "        vertical-align: middle;\n",
       "    }\n",
       "\n",
       "    .dataframe tbody tr th {\n",
       "        vertical-align: top;\n",
       "    }\n",
       "\n",
       "    .dataframe thead th {\n",
       "        text-align: right;\n",
       "    }\n",
       "</style>\n",
       "<table border=\"1\" class=\"dataframe\">\n",
       "  <thead>\n",
       "    <tr style=\"text-align: right;\">\n",
       "      <th></th>\n",
       "      <th>city</th>\n",
       "      <th>timestamp</th>\n",
       "      <th>temperature</th>\n",
       "      <th>season</th>\n",
       "    </tr>\n",
       "  </thead>\n",
       "  <tbody>\n",
       "    <tr>\n",
       "      <th>0</th>\n",
       "      <td>Beijing</td>\n",
       "      <td>2010-01-01</td>\n",
       "      <td>-6.174222</td>\n",
       "      <td>winter</td>\n",
       "    </tr>\n",
       "    <tr>\n",
       "      <th>1</th>\n",
       "      <td>Beijing</td>\n",
       "      <td>2010-01-02</td>\n",
       "      <td>-4.834096</td>\n",
       "      <td>winter</td>\n",
       "    </tr>\n",
       "    <tr>\n",
       "      <th>2</th>\n",
       "      <td>Beijing</td>\n",
       "      <td>2010-01-03</td>\n",
       "      <td>-1.209713</td>\n",
       "      <td>winter</td>\n",
       "    </tr>\n",
       "    <tr>\n",
       "      <th>3</th>\n",
       "      <td>Beijing</td>\n",
       "      <td>2010-01-04</td>\n",
       "      <td>5.825166</td>\n",
       "      <td>winter</td>\n",
       "    </tr>\n",
       "    <tr>\n",
       "      <th>4</th>\n",
       "      <td>Beijing</td>\n",
       "      <td>2010-01-05</td>\n",
       "      <td>-2.400848</td>\n",
       "      <td>winter</td>\n",
       "    </tr>\n",
       "    <tr>\n",
       "      <th>...</th>\n",
       "      <td>...</td>\n",
       "      <td>...</td>\n",
       "      <td>...</td>\n",
       "      <td>...</td>\n",
       "    </tr>\n",
       "    <tr>\n",
       "      <th>54745</th>\n",
       "      <td>Tokyo</td>\n",
       "      <td>2019-12-25</td>\n",
       "      <td>2.623591</td>\n",
       "      <td>winter</td>\n",
       "    </tr>\n",
       "    <tr>\n",
       "      <th>54746</th>\n",
       "      <td>Tokyo</td>\n",
       "      <td>2019-12-26</td>\n",
       "      <td>0.851174</td>\n",
       "      <td>winter</td>\n",
       "    </tr>\n",
       "    <tr>\n",
       "      <th>54747</th>\n",
       "      <td>Tokyo</td>\n",
       "      <td>2019-12-27</td>\n",
       "      <td>12.993030</td>\n",
       "      <td>winter</td>\n",
       "    </tr>\n",
       "    <tr>\n",
       "      <th>54748</th>\n",
       "      <td>Tokyo</td>\n",
       "      <td>2019-12-28</td>\n",
       "      <td>3.479038</td>\n",
       "      <td>winter</td>\n",
       "    </tr>\n",
       "    <tr>\n",
       "      <th>54749</th>\n",
       "      <td>Tokyo</td>\n",
       "      <td>2019-12-29</td>\n",
       "      <td>-3.686073</td>\n",
       "      <td>winter</td>\n",
       "    </tr>\n",
       "  </tbody>\n",
       "</table>\n",
       "<p>54750 rows × 4 columns</p>\n",
       "</div>"
      ]
     },
     "execution_count": 2,
     "metadata": {},
     "output_type": "execute_result"
    }
   ],
   "execution_count": 2
  },
  {
   "metadata": {
    "ExecuteTime": {
     "end_time": "2024-12-16T20:41:56.177815Z",
     "start_time": "2024-12-16T20:41:56.149148Z"
    }
   },
   "cell_type": "code",
   "source": [
    "df_w = tools.rolling_mean_std(df)\n",
    "df_stat = tools.seasonal_stats(df)\n",
    "df_anomaly = tools.detect_anomalies(df, df_stat)\n",
    "# df_anomaly\n",
    "# df_stat"
   ],
   "outputs": [],
   "execution_count": 16
  },
  {
   "cell_type": "code",
   "metadata": {
    "ExecuteTime": {
     "end_time": "2024-12-16T20:53:37.382761Z",
     "start_time": "2024-12-16T20:53:35.703062Z"
    }
   },
   "source": [
    "# последовательное выполнение на процессах. Параллельное выполнение на процессах дает худший результат, чем последовательное выполнение. Думаю это связанно с тем что pandas и так хорошо оптимизован, а накладные расходы на создание и синхронизацию между процессами весьма высоки.\n",
    "with multiprocessing.Pool(processes=8) as pool:\n",
    "    for city in df['city'].unique():\n",
    "        df_city = df[df['city'] == city]\n",
    "\n",
    "        result_future = pool.apply_async(tools.rolling_mean_std, (df_city,))\n",
    "        df_stat_future = pool.apply_async(tools.seasonal_stats, (df_city,))\n",
    "        df_stat = df_stat_future.get()\n",
    "        df_anomaly_future = pool.apply_async(tools.detect_anomalies, (df_city, df_stat))\n",
    "        df_anomaly = df_anomaly_future.get()\n",
    "\n",
    "        print(city)\n",
    "        print(df_stat.shape)\n",
    "        print(df_anomaly.shape)\n",
    "\n",
    "# Распараллеливание дает худший результат, чем последовательное выполнение.\n",
    "# Скорее всего причина в том что пандас внутри хорошо оптимизирован, а создание процессов требует много ресурсов и накладывает большой оверхед по времени синхронизации\n"
   ],
   "outputs": [
    {
     "name": "stdout",
     "output_type": "stream",
     "text": [
      "Beijing\n",
      "(4, 4)\n",
      "(3650, 7)\n",
      "Berlin\n",
      "(4, 4)\n",
      "(3650, 7)\n",
      "Cairo\n",
      "(4, 4)\n",
      "(3650, 7)\n",
      "Dubai\n",
      "(4, 4)\n",
      "(3650, 7)\n",
      "London\n",
      "(4, 4)\n",
      "(3650, 7)\n",
      "Los Angeles\n",
      "(4, 4)\n",
      "(3650, 7)\n",
      "Mexico City\n",
      "(4, 4)\n",
      "(3650, 7)\n",
      "Moscow\n",
      "(4, 4)\n",
      "(3650, 7)\n",
      "Mumbai\n",
      "(4, 4)\n",
      "(3650, 7)\n",
      "New York\n",
      "(4, 4)\n",
      "(3650, 7)\n",
      "Paris\n",
      "(4, 4)\n",
      "(3650, 7)\n",
      "Rio de Janeiro\n",
      "(4, 4)\n",
      "(3650, 7)\n",
      "Singapore\n",
      "(4, 4)\n",
      "(3650, 7)\n",
      "Sydney\n",
      "(4, 4)\n",
      "(3650, 7)\n",
      "Tokyo\n",
      "(4, 4)\n",
      "(3650, 7)\n"
     ]
    }
   ],
   "execution_count": 3
  },
  {
   "metadata": {
    "ExecuteTime": {
     "end_time": "2024-12-16T21:18:19.904282Z",
     "start_time": "2024-12-16T21:18:19.811165Z"
    }
   },
   "cell_type": "code",
   "source": [
    "# последовательное выполнение на тредах. на самом деле тут нет параллельных рассчетов, т к треды работают в рамках 1 процесса и на них распространяется GIL. Это не IO операции.\n",
    "\n",
    "with multiprocessing.pool.ThreadPool(processes=8) as pool:\n",
    "    for city in df['city'].unique():\n",
    "        df_city = df[df['city'] == city]\n",
    "\n",
    "        result_future = pool.apply_async(tools.rolling_mean_std, (df_city,))\n",
    "        df_stat_future = pool.apply_async(tools.seasonal_stats, (df_city,))\n",
    "        df_stat = df_stat_future.get()\n",
    "        df_anomaly_future = pool.apply_async(tools.detect_anomalies, (df_city, df_stat))\n",
    "        df_anomaly = df_anomaly_future.get()\n",
    "\n",
    "        print(city)\n",
    "        print(df_stat.shape)\n",
    "        print(df_anomaly.shape)\n",
    "\n",
    "# Выполнение на тредах произошло гораздо быстрее чем на процессах, т к не было накладных расходов на создание процессов и их синхронизацию"
   ],
   "outputs": [
    {
     "name": "stdout",
     "output_type": "stream",
     "text": [
      "Beijing\n",
      "(4, 4)\n",
      "(3650, 8)\n",
      "Berlin\n",
      "(4, 4)\n",
      "(3650, 9)\n",
      "Cairo\n",
      "(4, 4)\n",
      "(3650, 8)\n",
      "Dubai\n",
      "(4, 4)\n",
      "(3650, 8)\n",
      "London\n",
      "(4, 4)\n",
      "(3650, 8)\n",
      "Los Angeles\n",
      "(4, 4)\n",
      "(3650, 9)\n",
      "Mexico City\n",
      "(4, 4)\n",
      "(3650, 9)\n",
      "Moscow\n",
      "(4, 4)\n",
      "(3650, 9)\n",
      "Mumbai\n",
      "(4, 4)\n",
      "(3650, 8)\n",
      "New York\n",
      "(4, 4)\n",
      "(3650, 9)\n",
      "Paris\n",
      "(4, 4)\n",
      "(3650, 8)\n",
      "Rio de Janeiro\n",
      "(4, 4)\n",
      "(3650, 8)\n",
      "Singapore\n",
      "(4, 4)\n",
      "(3650, 9)\n",
      "Sydney\n",
      "(4, 4)\n",
      "(3650, 8)\n",
      "Tokyo\n",
      "(4, 4)\n",
      "(3650, 8)\n"
     ]
    }
   ],
   "execution_count": 16
  },
  {
   "cell_type": "code",
   "metadata": {
    "ExecuteTime": {
     "end_time": "2024-12-16T21:15:04.431092Z",
     "start_time": "2024-12-16T21:15:04.427935Z"
    }
   },
   "source": [
    "   # - Подключить OpenWeatherMap API для получения текущей температуры города. Для получения API Key (бесплатно) надо зарегистрироваться на сайте. Обратите внимание, что API Key может активироваться только через 2-3 часа, это нормально. Посему получите ключ заранее.\n",
    "   # - Получить текущую температуру для выбранного города через OpenWeatherMap API.\n",
    "   # - Определить, является ли текущая температура нормальной, исходя из исторических данных для текущего сезона.\n",
    "   # - Данные на самом деле не совсем реальные (сюрпрайз). Поэтому на момент эксперимента погода в Берлине, Каире и Дубае была в рамках нормы, а в Пекине и Москве аномальная. Протестируйте свое решение для разных городов.\n",
    "   # - Попробуйте для получения текущей температуры использовать синхронные и асинхронные методы. Что здесь лучше использовать?\n",
    "\n",
    "api_key = \"9ca7f107c67aa1273e795ca7e32ee4bb\""
   ],
   "outputs": [],
   "execution_count": 6
  },
  {
   "metadata": {},
   "cell_type": "code",
   "outputs": [],
   "execution_count": null,
   "source": [
    "# получаем статистику по городам по тестовому датасету: аномалии вычисленные по среднему и стандартному отклонению\n",
    "df_stat = tools.seasonal_stats(df)"
   ]
  },
  {
   "cell_type": "code",
   "metadata": {
    "ExecuteTime": {
     "end_time": "2024-12-16T21:44:27.711050Z",
     "start_time": "2024-12-16T21:44:24.531658Z"
    }
   },
   "source": [
    "# последовательная обработка запросов в апи. Несмотря на работу с корутиной запросы выполняются последовательно, т к они не зворачиваются в таски и не собираются через gather\n",
    "\n",
    "for city in df['city'].unique():\n",
    "    r = await tools.fetch_async(f\"https://api.openweathermap.org/data/2.5/weather?q={city}&units=metric&APPID={api_key}\")\n",
    "    curr_temp = r['main']['temp']\n",
    "    is_anomaly_temp = tools.check_anomaly(df_stat, city, curr_temp)\n",
    "    print(f\"City: {city}, Temp: {curr_temp}, Anomaly: {is_anomaly_temp}\")\n"
   ],
   "outputs": [
    {
     "name": "stdout",
     "output_type": "stream",
     "text": [
      "City: Beijing, Temp: -1.06, Anomaly: False\n",
      "City: Berlin, Temp: 8.89, Anomaly: False\n",
      "City: Cairo, Temp: 15.42, Anomaly: False\n",
      "City: Dubai, Temp: 20.96, Anomaly: False\n",
      "City: London, Temp: 9.62, Anomaly: False\n",
      "City: Los Angeles, Temp: 21, Anomaly: False\n",
      "City: Mexico City, Temp: 22.75, Anomaly: True\n",
      "City: Moscow, Temp: -0.16, Anomaly: False\n",
      "City: Mumbai, Temp: 23.99, Anomaly: False\n",
      "City: New York, Temp: 8.88, Anomaly: False\n",
      "City: Paris, Temp: 8.31, Anomaly: False\n",
      "City: Rio de Janeiro, Temp: 24.25, Anomaly: False\n",
      "City: Singapore, Temp: 25.68, Anomaly: False\n",
      "City: Sydney, Temp: 25.24, Anomaly: True\n",
      "City: Tokyo, Temp: 5.34, Anomaly: False\n"
     ]
    }
   ],
   "execution_count": 30
  },
  {
   "metadata": {
    "ExecuteTime": {
     "end_time": "2024-12-16T21:47:36.069715Z",
     "start_time": "2024-12-16T21:47:35.853961Z"
    }
   },
   "cell_type": "code",
   "source": [
    "# асинхронное выполнение запросов к апи. Запросы выполняются параллельно, т к они обернуты в таски и собраны через gather\n",
    "tasks = []\n",
    "for city in df['city'].unique():\n",
    "    tasks.append(tools.fetch_async(f\"https://api.openweathermap.org/data/2.5/weather?q={city}&units=metric&APPID={api_key}\"))\n",
    "\n",
    "res_arr = await asyncio.gather(*tasks)\n",
    "\n",
    "for city, r in zip(df['city'].unique(), res_arr):\n",
    "    is_anomaly_temp = tools.check_anomaly(df_stat, city, r['main']['temp'])\n",
    "    print(f\"City: {city}, Temp: {r['main']['temp']}, Anomaly: {is_anomaly_temp}\")\n"
   ],
   "outputs": [
    {
     "name": "stdout",
     "output_type": "stream",
     "text": [
      "City: Beijing, Temp: -1.06, Anomaly: False\n",
      "City: Berlin, Temp: 8.89, Anomaly: False\n",
      "City: Cairo, Temp: 15.42, Anomaly: False\n",
      "City: Dubai, Temp: 20.96, Anomaly: False\n",
      "City: London, Temp: 9.62, Anomaly: False\n",
      "City: Los Angeles, Temp: 21, Anomaly: False\n",
      "City: Mexico City, Temp: 22.75, Anomaly: True\n",
      "City: Moscow, Temp: -0.16, Anomaly: False\n",
      "City: Mumbai, Temp: 23.99, Anomaly: False\n",
      "City: New York, Temp: 8.88, Anomaly: False\n",
      "City: Paris, Temp: 8.31, Anomaly: False\n",
      "City: Rio de Janeiro, Temp: 24.25, Anomaly: False\n",
      "City: Singapore, Temp: 25.68, Anomaly: False\n",
      "City: Sydney, Temp: 25.24, Anomaly: True\n",
      "City: Tokyo, Temp: 5.34, Anomaly: False\n"
     ]
    }
   ],
   "execution_count": 35
  },
  {
   "metadata": {
    "ExecuteTime": {
     "end_time": "2024-12-16T21:47:44.154475Z",
     "start_time": "2024-12-16T21:47:41.423922Z"
    }
   },
   "cell_type": "code",
   "source": [
    "# историно синхронный метод. никаких корутин.\n",
    "\n",
    "for city in df['city'].unique():\n",
    "    r = tools.fetch_sync(f\"https://api.openweathermap.org/data/2.5/weather?q={city}&units=metric&APPID={api_key}\")\n",
    "    is_anomaly_temp = tools.check_anomaly(df_stat, city, r['main']['temp'])\n",
    "    print(f\"City: {city}, Temp: {r['main']['temp']}, Anomaly: {is_anomaly_temp}\")"
   ],
   "outputs": [
    {
     "name": "stdout",
     "output_type": "stream",
     "text": [
      "City: Beijing, Temp: -1.06, Anomaly: False\n",
      "City: Berlin, Temp: 8.89, Anomaly: False\n",
      "City: Cairo, Temp: 15.42, Anomaly: False\n",
      "City: Dubai, Temp: 20.96, Anomaly: False\n",
      "City: London, Temp: 9.62, Anomaly: False\n",
      "City: Los Angeles, Temp: 21, Anomaly: False\n",
      "City: Mexico City, Temp: 22.75, Anomaly: True\n",
      "City: Moscow, Temp: -0.16, Anomaly: False\n",
      "City: Mumbai, Temp: 23.99, Anomaly: False\n",
      "City: New York, Temp: 8.92, Anomaly: False\n",
      "City: Paris, Temp: 8.31, Anomaly: False\n",
      "City: Rio de Janeiro, Temp: 24.25, Anomaly: False\n",
      "City: Singapore, Temp: 25.68, Anomaly: False\n",
      "City: Sydney, Temp: 25.24, Anomaly: True\n",
      "City: Tokyo, Temp: 5.34, Anomaly: False\n"
     ]
    }
   ],
   "execution_count": 36
  },
  {
   "metadata": {},
   "cell_type": "markdown",
   "source": "Время выполнения запросов с использованием асинхронных методов значительно меньше, чем с использованием синхронных методов. Это связано с тем, что асинхронные методы позволяют выполнять запросы параллельно т к это IO задачи."
  }
 ],
 "metadata": {
  "colab": {
   "provenance": []
  },
  "kernelspec": {
   "display_name": "Python 3 (ipykernel)",
   "language": "python",
   "name": "python3"
  },
  "language_info": {
   "codemirror_mode": {
    "name": "ipython",
    "version": 3
   },
   "file_extension": ".py",
   "mimetype": "text/x-python",
   "name": "python",
   "nbconvert_exporter": "python",
   "pygments_lexer": "ipython3",
   "version": "3.12.2"
  }
 },
 "nbformat": 4,
 "nbformat_minor": 4
}
